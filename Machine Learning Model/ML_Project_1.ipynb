{
 "cells": [
  {
   "cell_type": "markdown",
   "id": "9cca0091",
   "metadata": {},
   "source": [
    "# Chestnut Munia Population Predictor"
   ]
  },
  {
   "cell_type": "code",
   "execution_count": 1,
   "id": "66c36126",
   "metadata": {},
   "outputs": [
    {
     "name": "stdout",
     "output_type": "stream",
     "text": [
      "Number of Chestnut Munia expected: 31\n"
     ]
    },
    {
     "name": "stderr",
     "output_type": "stream",
     "text": [
      "c:\\Users\\nadil\\anaconda3\\lib\\site-packages\\sklearn\\base.py:450: UserWarning: X does not have valid feature names, but DecisionTreeClassifier was fitted with feature names\n",
      "  warnings.warn(\n"
     ]
    }
   ],
   "source": [
    "import pandas as pd\n",
    "from sklearn.tree import DecisionTreeClassifier #We use the decision tree algorithm\n",
    "from sklearn.model_selection import train_test_split\n",
    "from sklearn.metrics import accuracy_score\n",
    "\n",
    "population_data = pd.read_csv('datasets.csv')\n",
    "x = population_data.drop(columns=['Population'])\n",
    "y = population_data['Population']\n",
    "# x_train, x_test, y_train, y_test = train_test_split(x, y, test_size=0.1)\n",
    "\n",
    "model = DecisionTreeClassifier()\n",
    "model.fit(x,y) #Passing the input and output set as argument\n",
    "# predictions = model.predict(x_test) #We can pass user scenaios also to get predictions wih this function\n",
    "\n",
    "predict = list(map(int,input().split(\" \")))\n",
    "predictions = model.predict([predict]) #Example of how we can predicct for a certain scenario\n",
    "\n",
    "# score = accuracy_score(y_test, predictions)\n",
    "# score\n",
    "\n",
    "print(\"Number of Chestnut Munia expected:\",predictions[0])"
   ]
  },
  {
   "cell_type": "code",
   "execution_count": 35,
   "id": "d4619a80",
   "metadata": {},
   "outputs": [],
   "source": [
    "# from sklearn.externals import joblib\n",
    "\n",
    "# joblib.dump(model,'music-recommender.joblib') #Saving the trained model\n",
    "# model = joblib.load('music-recommender.joblib') #Retrieving the trained model\n"
   ]
  },
  {
   "cell_type": "markdown",
   "id": "efbc77b0",
   "metadata": {},
   "source": [
    "# Elephant Population Predictor"
   ]
  },
  {
   "cell_type": "code",
   "execution_count": null,
   "id": "a1aaa05e",
   "metadata": {},
   "outputs": [],
   "source": [
    "import pandas as pd\n",
    "from sklearn.tree import DecisionTreeClassifier #We use the decision tree algorithm\n",
    "from sklearn.model_selection import train_test_split\n",
    "from sklearn.metrics import accuracy_score\n",
    "\n",
    "population_data = pd.read_csv('datasets1.csv')\n",
    "x = population_data.drop(columns=['Pop'])\n",
    "y = population_data['Pop']\n",
    "# x_train, x_test, y_train, y_test = train_test_split(x, y, test_size=0.1)\n",
    "\n",
    "model = DecisionTreeClassifier()\n",
    "model.fit(x_train, y_train) #Passing the input and output set as argument\n",
    "# predictions = model.predict(x_test) #We can pass user scenaios also to get predictions wih this function\n",
    "\n",
    "predict = list(map(int,input().split(\" \")))\n",
    "predictions = model.predict([predict]) #Example of how we can predicct for a certain scenario\n",
    "\n",
    "# score = accuracy_score(y_test, predictions)\n",
    "# score\n",
    "\n",
    "print(\"Number of Elephants expected:\",predictions[0])"
   ]
  },
  {
   "cell_type": "markdown",
   "id": "1fa35134",
   "metadata": {},
   "source": [
    "# Wild Boar Population Predictor"
   ]
  },
  {
   "cell_type": "code",
   "execution_count": null,
   "id": "738ab0ad",
   "metadata": {},
   "outputs": [],
   "source": [
    "import pandas as pd\n",
    "from sklearn.tree import DecisionTreeClassifier #We use the decision tree algorithm\n",
    "from sklearn.model_selection import train_test_split\n",
    "from sklearn.metrics import accuracy_score\n",
    "\n",
    "population_data = pd.read_csv('datasets2.csv')\n",
    "x = population_data.drop(columns=['Population_1'])\n",
    "y = population_data['Population_1']\n",
    "# x_train, x_test, y_train, y_test = train_test_split(x, y, test_size=0.1)\n",
    "\n",
    "model = DecisionTreeClassifier()\n",
    "model.fit(x_train, y_train) #Passing the input and output set as argument\n",
    "# predictions = model.predict(x_test) #We can pass user scenaios also to get predictions wih this function\n",
    "\n",
    "predict = list(map(int,input().split(\" \")))\n",
    "predictions = model.predict([predict]) #Example of how we can predicct for a certain scenario\n",
    "\n",
    "# score = accuracy_score(y_test, predictions)\n",
    "# score\n",
    "\n",
    "print(\"Number of Wildboars expected:\",predictions[0])"
   ]
  }
 ],
 "metadata": {
  "kernelspec": {
   "display_name": "Python 3 (ipykernel)",
   "language": "python",
   "name": "python3"
  },
  "language_info": {
   "codemirror_mode": {
    "name": "ipython",
    "version": 3
   },
   "file_extension": ".py",
   "mimetype": "text/x-python",
   "name": "python",
   "nbconvert_exporter": "python",
   "pygments_lexer": "ipython3",
   "version": "3.9.12"
  }
 },
 "nbformat": 4,
 "nbformat_minor": 5
}
